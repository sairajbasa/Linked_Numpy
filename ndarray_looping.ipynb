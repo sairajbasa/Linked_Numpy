{
 "cells": [
  {
   "cell_type": "code",
   "execution_count": null,
   "id": "32d8eb58",
   "metadata": {},
   "outputs": [
    {
     "name": "stdout",
     "output_type": "stream",
     "text": [
      "[1 2 3 4 5 6 7 8 9] <class 'numpy.ndarray'>\n"
     ]
    }
   ],
   "source": [
    "################ iterating the ndarray ###################\n",
    "#By using for loop\n",
    "#By using while loop\n",
    "########### 1D - ARRAY  #############\n",
    "import numpy as np\n",
    "lst=[i for i in range(1,10)]\n",
    "arr=np.array(lst)\n",
    "print(arr,type(arr))"
   ]
  },
  {
   "cell_type": "code",
   "execution_count": null,
   "id": "8a343bb1",
   "metadata": {},
   "outputs": [
    {
     "name": "stdout",
     "output_type": "stream",
     "text": [
      "1\n",
      "2\n",
      "3\n",
      "4\n",
      "5\n",
      "6\n",
      "7\n",
      "8\n",
      "9\n"
     ]
    }
   ],
   "source": [
    "################ USING FOR LOOP ##################\n",
    "for i in arr:\n",
    "    print(i)"
   ]
  },
  {
   "cell_type": "code",
   "execution_count": 4,
   "id": "e736410e",
   "metadata": {},
   "outputs": [
    {
     "name": "stdout",
     "output_type": "stream",
     "text": [
      "1\n",
      "2\n",
      "3\n",
      "4\n",
      "5\n",
      "6\n",
      "7\n",
      "8\n",
      "9\n"
     ]
    }
   ],
   "source": [
    "############### USING WHILE LOOP ##################\n",
    "i=0\n",
    "while i<len(arr):\n",
    "    print(arr[i])\n",
    "    i+=1"
   ]
  },
  {
   "cell_type": "code",
   "execution_count": null,
   "id": "34e3ad83",
   "metadata": {},
   "outputs": [
    {
     "name": "stdout",
     "output_type": "stream",
     "text": [
      "[[1 2 3]\n",
      " [4 5 6]\n",
      " [7 8 9]]\n"
     ]
    }
   ],
   "source": [
    "########### 2D - ARRAY ############\n",
    "arr=np.array([i for i in range(1,10)]).reshape((3,3))\n",
    "print(arr)"
   ]
  },
  {
   "cell_type": "code",
   "execution_count": null,
   "id": "8c11b380",
   "metadata": {},
   "outputs": [
    {
     "name": "stdout",
     "output_type": "stream",
     "text": [
      "[1 2 3]\n",
      "[4 5 6]\n",
      "[7 8 9]\n"
     ]
    }
   ],
   "source": [
    "########## USING FOR LOOP ############\n",
    "### getting only rows\n",
    "for i in range(len(arr)):\n",
    "    print(arr[i])"
   ]
  },
  {
   "cell_type": "code",
   "execution_count": null,
   "id": "65873ae4",
   "metadata": {},
   "outputs": [
    {
     "name": "stdout",
     "output_type": "stream",
     "text": [
      "[1 2 3]\n",
      "[4 5 6]\n",
      "[7 8 9]\n"
     ]
    }
   ],
   "source": [
    "########## USING WHILE LOOP ############\n",
    "### getting only rows\n",
    "i=0\n",
    "while i<len(arr):\n",
    "    print(arr[i])\n",
    "    i+=1"
   ]
  },
  {
   "cell_type": "code",
   "execution_count": 9,
   "id": "83e5150d",
   "metadata": {},
   "outputs": [
    {
     "name": "stdout",
     "output_type": "stream",
     "text": [
      "[[1 2 3]\n",
      " [4 5 6]\n",
      " [7 8 9]]\n"
     ]
    }
   ],
   "source": [
    "############## getting the elements from ndarray by using element by element ###################\n",
    "print(arr)"
   ]
  },
  {
   "cell_type": "code",
   "execution_count": null,
   "id": "1f2c6fa5",
   "metadata": {},
   "outputs": [
    {
     "name": "stdout",
     "output_type": "stream",
     "text": [
      "1\n",
      "2\n",
      "3\n",
      "4\n",
      "5\n",
      "6\n",
      "7\n",
      "8\n",
      "9\n"
     ]
    }
   ],
   "source": [
    "############# by using for loop ###############\n",
    "for i in range(len(arr)):\n",
    "    for j in range(len(arr[i])):\n",
    "        print(arr[i][j])"
   ]
  },
  {
   "cell_type": "code",
   "execution_count": 14,
   "id": "f8796033",
   "metadata": {},
   "outputs": [
    {
     "name": "stdout",
     "output_type": "stream",
     "text": [
      "[[1 2 3]\n",
      " [4 5 6]\n",
      " [7 8 9]]\n"
     ]
    }
   ],
   "source": [
    "############# by using while loop ###############\n",
    "print(arr)"
   ]
  },
  {
   "cell_type": "code",
   "execution_count": 15,
   "id": "9d87984c",
   "metadata": {},
   "outputs": [
    {
     "name": "stdout",
     "output_type": "stream",
     "text": [
      "1\n",
      "2\n",
      "3\n",
      "4\n",
      "5\n",
      "6\n",
      "7\n",
      "8\n",
      "9\n"
     ]
    }
   ],
   "source": [
    "i=0\n",
    "while i<len(arr):\n",
    "    j=0\n",
    "    while j<len(arr[i]):\n",
    "        print(arr[i][j])\n",
    "        j+=1\n",
    "    i+=1"
   ]
  },
  {
   "cell_type": "code",
   "execution_count": null,
   "id": "1a540fda",
   "metadata": {},
   "outputs": [
    {
     "name": "stdout",
     "output_type": "stream",
     "text": [
      "[[[ 1  2  3]\n",
      "  [ 4  5  6]\n",
      "  [ 7  8  9]]\n",
      "\n",
      " [[10 11 12]\n",
      "  [13 14 15]\n",
      "  [16 17 18]]]\n"
     ]
    }
   ],
   "source": [
    "########### 3D - ARRAY   ##########\n",
    "arr=np.array([i for i in range(1,19)]).reshape((2,3,3))\n",
    "print(arr)"
   ]
  },
  {
   "cell_type": "code",
   "execution_count": null,
   "id": "8a6f1eb7",
   "metadata": {},
   "outputs": [
    {
     "name": "stdout",
     "output_type": "stream",
     "text": [
      "[[1 2 3]\n",
      " [4 5 6]\n",
      " [7 8 9]]\n",
      "\n",
      "[[10 11 12]\n",
      " [13 14 15]\n",
      " [16 17 18]]\n",
      "\n"
     ]
    }
   ],
   "source": [
    "###### getting each matrix - using for loop ########\n",
    "for i in arr:\n",
    "    print(i)\n",
    "    print()"
   ]
  },
  {
   "cell_type": "code",
   "execution_count": null,
   "id": "7c2ed51b",
   "metadata": {},
   "outputs": [
    {
     "name": "stdout",
     "output_type": "stream",
     "text": [
      "[[1 2 3]\n",
      " [4 5 6]\n",
      " [7 8 9]]\n",
      "\n",
      "[[10 11 12]\n",
      " [13 14 15]\n",
      " [16 17 18]]\n",
      "\n"
     ]
    }
   ],
   "source": [
    "###### getting each matrix - using while loop ######\n",
    "i=0\n",
    "while i<len(arr):\n",
    "    print(arr[i])\n",
    "    print()\n",
    "    i+=1"
   ]
  },
  {
   "cell_type": "code",
   "execution_count": 23,
   "id": "bc08b091",
   "metadata": {},
   "outputs": [
    {
     "name": "stdout",
     "output_type": "stream",
     "text": [
      "[[[ 1  2  3]\n",
      "  [ 4  5  6]\n",
      "  [ 7  8  9]]\n",
      "\n",
      " [[10 11 12]\n",
      "  [13 14 15]\n",
      "  [16 17 18]]]\n"
     ]
    }
   ],
   "source": [
    "print(arr)"
   ]
  },
  {
   "cell_type": "code",
   "execution_count": null,
   "id": "f4fbc96a",
   "metadata": {},
   "outputs": [
    {
     "name": "stdout",
     "output_type": "stream",
     "text": [
      "[1 2 3]\n",
      "\n",
      "[4 5 6]\n",
      "\n",
      "[7 8 9]\n",
      "\n",
      "-----------------------\n",
      "[10 11 12]\n",
      "\n",
      "[13 14 15]\n",
      "\n",
      "[16 17 18]\n",
      "\n",
      "-----------------------\n"
     ]
    }
   ],
   "source": [
    "############# getting each row from each matrix - using for loop ############\n",
    "for i in range(len(arr)):\n",
    "    for j in range(len(arr[i])):\n",
    "        print(arr[i][j])\n",
    "        print()\n",
    "    print('-----------------------')"
   ]
  },
  {
   "cell_type": "code",
   "execution_count": 28,
   "id": "bef5b7fc",
   "metadata": {},
   "outputs": [
    {
     "name": "stdout",
     "output_type": "stream",
     "text": [
      "[[[ 1  2  3]\n",
      "  [ 4  5  6]\n",
      "  [ 7  8  9]]\n",
      "\n",
      " [[10 11 12]\n",
      "  [13 14 15]\n",
      "  [16 17 18]]]\n"
     ]
    }
   ],
   "source": [
    "############# getting each row from each matrix - using while loop #############\n",
    "print(arr)"
   ]
  },
  {
   "cell_type": "code",
   "execution_count": 31,
   "id": "eccc0e81",
   "metadata": {},
   "outputs": [
    {
     "name": "stdout",
     "output_type": "stream",
     "text": [
      "[1 2 3]\n",
      "\n",
      "[4 5 6]\n",
      "\n",
      "[7 8 9]\n",
      "\n",
      "----------------\n",
      "[10 11 12]\n",
      "\n",
      "[13 14 15]\n",
      "\n",
      "[16 17 18]\n",
      "\n",
      "----------------\n"
     ]
    }
   ],
   "source": [
    "i=0\n",
    "while i<len(arr):\n",
    "    j=0\n",
    "    while j<len(arr[i]):\n",
    "        print(arr[i][j])\n",
    "        print()\n",
    "        j+=1\n",
    "    print('----------------')\n",
    "    i+=1"
   ]
  },
  {
   "cell_type": "code",
   "execution_count": 32,
   "id": "d9a281ab",
   "metadata": {},
   "outputs": [
    {
     "name": "stdout",
     "output_type": "stream",
     "text": [
      "[[[ 1  2  3]\n",
      "  [ 4  5  6]\n",
      "  [ 7  8  9]]\n",
      "\n",
      " [[10 11 12]\n",
      "  [13 14 15]\n",
      "  [16 17 18]]]\n"
     ]
    }
   ],
   "source": [
    "############# fetching elements one by one - using for loop ################\n",
    "print(arr)"
   ]
  },
  {
   "cell_type": "code",
   "execution_count": 39,
   "id": "335b1e57",
   "metadata": {},
   "outputs": [
    {
     "name": "stdout",
     "output_type": "stream",
     "text": [
      "Element at arr[0][0][0] index is 1\n",
      "Element at arr[0][0][1] index is 2\n",
      "Element at arr[0][0][2] index is 3\n",
      "Element at arr[0][1][0] index is 4\n",
      "Element at arr[0][1][1] index is 5\n",
      "Element at arr[0][1][2] index is 6\n",
      "Element at arr[0][2][0] index is 7\n",
      "Element at arr[0][2][1] index is 8\n",
      "Element at arr[0][2][2] index is 9\n",
      "Element at arr[1][0][0] index is 10\n",
      "Element at arr[1][0][1] index is 11\n",
      "Element at arr[1][0][2] index is 12\n",
      "Element at arr[1][1][0] index is 13\n",
      "Element at arr[1][1][1] index is 14\n",
      "Element at arr[1][1][2] index is 15\n",
      "Element at arr[1][2][0] index is 16\n",
      "Element at arr[1][2][1] index is 17\n",
      "Element at arr[1][2][2] index is 18\n"
     ]
    }
   ],
   "source": [
    "for i in range(len(arr)):\n",
    "    for j in range(len(arr[i])):\n",
    "        for k in range(len(arr[i][j])):\n",
    "            print(f'Element at arr[{i}][{j}][{k}] index is {arr[i][j][k]}')\n"
   ]
  },
  {
   "cell_type": "code",
   "execution_count": 40,
   "id": "b0ff2cc8",
   "metadata": {},
   "outputs": [
    {
     "name": "stdout",
     "output_type": "stream",
     "text": [
      "[[[ 1  2  3]\n",
      "  [ 4  5  6]\n",
      "  [ 7  8  9]]\n",
      "\n",
      " [[10 11 12]\n",
      "  [13 14 15]\n",
      "  [16 17 18]]]\n"
     ]
    }
   ],
   "source": [
    "############# fetching elements one by one - using while loop ################\n",
    "print(arr)"
   ]
  },
  {
   "cell_type": "code",
   "execution_count": 42,
   "id": "fa6ddcf3",
   "metadata": {},
   "outputs": [
    {
     "name": "stdout",
     "output_type": "stream",
     "text": [
      "Element at arr[0][0][0] is 1\n",
      "Element at arr[0][0][1] is 2\n",
      "Element at arr[0][0][2] is 3\n",
      "Element at arr[0][1][0] is 4\n",
      "Element at arr[0][1][1] is 5\n",
      "Element at arr[0][1][2] is 6\n",
      "Element at arr[0][2][0] is 7\n",
      "Element at arr[0][2][1] is 8\n",
      "Element at arr[0][2][2] is 9\n",
      "Element at arr[1][0][0] is 10\n",
      "Element at arr[1][0][1] is 11\n",
      "Element at arr[1][0][2] is 12\n",
      "Element at arr[1][1][0] is 13\n",
      "Element at arr[1][1][1] is 14\n",
      "Element at arr[1][1][2] is 15\n",
      "Element at arr[1][2][0] is 16\n",
      "Element at arr[1][2][1] is 17\n",
      "Element at arr[1][2][2] is 18\n"
     ]
    }
   ],
   "source": [
    "i=0\n",
    "while i<len(arr):\n",
    "    j=0\n",
    "    while j<len(arr[i]):\n",
    "        k=0\n",
    "        while k<len(arr[i][j]):\n",
    "            print(f'Element at arr[{i}][{j}][{k}] is {arr[i][j][k]}')\n",
    "            k+=1\n",
    "        j+=1\n",
    "    i+=1"
   ]
  },
  {
   "cell_type": "code",
   "execution_count": null,
   "id": "470e50e0",
   "metadata": {},
   "outputs": [],
   "source": [
    "####################################### X #######################################"
   ]
  }
 ],
 "metadata": {
  "kernelspec": {
   "display_name": "Python 3",
   "language": "python",
   "name": "python3"
  },
  "language_info": {
   "codemirror_mode": {
    "name": "ipython",
    "version": 3
   },
   "file_extension": ".py",
   "mimetype": "text/x-python",
   "name": "python",
   "nbconvert_exporter": "python",
   "pygments_lexer": "ipython3",
   "version": "3.12.10"
  }
 },
 "nbformat": 4,
 "nbformat_minor": 5
}
