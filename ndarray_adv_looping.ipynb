{
 "cells": [
  {
   "cell_type": "code",
   "execution_count": null,
   "id": "75582d4f",
   "metadata": {},
   "outputs": [
    {
     "name": "stdout",
     "output_type": "stream",
     "text": [
      "100\n",
      "101\n",
      "102\n",
      "103\n",
      "104\n",
      "105\n",
      "106\n",
      "107\n",
      "108\n"
     ]
    }
   ],
   "source": [
    "############## Advanced looping on ndarray objects ##################\n",
    "#######Iterating Arrays Using nditer()\n",
    "#1D array\n",
    "import numpy as np\n",
    "arr=np.array([i for i in range(100,109)])\n",
    "for i in np.nditer(arr):\n",
    "    print(i)\n"
   ]
  },
  {
   "cell_type": "code",
   "execution_count": 5,
   "id": "a25e6496",
   "metadata": {},
   "outputs": [
    {
     "name": "stdout",
     "output_type": "stream",
     "text": [
      "[[100 101 102]\n",
      " [103 104 105]\n",
      " [106 107 108]]\n",
      "----------------\n",
      "100\n",
      "101\n",
      "102\n",
      "103\n",
      "104\n",
      "105\n",
      "106\n",
      "107\n",
      "108\n"
     ]
    }
   ],
   "source": [
    "#2D array\n",
    "import numpy as np\n",
    "arr=np.array([i for i in range(100,109)]).reshape((3,3))\n",
    "print(arr)\n",
    "print('----------------')\n",
    "for i in np.nditer(arr):\n",
    "    print(i)"
   ]
  },
  {
   "cell_type": "code",
   "execution_count": 6,
   "id": "ae00fa90",
   "metadata": {},
   "outputs": [
    {
     "name": "stdout",
     "output_type": "stream",
     "text": [
      "[[[ 0  1  2]\n",
      "  [ 3  4  5]\n",
      "  [ 6  7  8]]\n",
      "\n",
      " [[ 9 10 11]\n",
      "  [12 13 14]\n",
      "  [15 16 17]]\n",
      "\n",
      " [[18 19 20]\n",
      "  [21 22 23]\n",
      "  [24 25 26]]]\n",
      "----------------\n",
      "0\n",
      "1\n",
      "2\n",
      "3\n",
      "4\n",
      "5\n",
      "6\n",
      "7\n",
      "8\n",
      "9\n",
      "10\n",
      "11\n",
      "12\n",
      "13\n",
      "14\n",
      "15\n",
      "16\n",
      "17\n",
      "18\n",
      "19\n",
      "20\n",
      "21\n",
      "22\n",
      "23\n",
      "24\n",
      "25\n",
      "26\n"
     ]
    }
   ],
   "source": [
    "#3D array\n",
    "import numpy as np\n",
    "arr=np.array([i for i in range(3*3*3)]).reshape((3,3,3))\n",
    "print(arr)\n",
    "print('----------------')\n",
    "for i in np.nditer(arr):\n",
    "    print(i)"
   ]
  },
  {
   "cell_type": "code",
   "execution_count": null,
   "id": "6e937c42",
   "metadata": {},
   "outputs": [
    {
     "name": "stdout",
     "output_type": "stream",
     "text": [
      "0\n",
      "1\n",
      "2\n",
      "3\n",
      "4\n",
      "5\n",
      "6\n",
      "7\n",
      "8\n",
      "9\n",
      "10\n",
      "11\n",
      "12\n",
      "13\n",
      "14\n",
      "15\n",
      "16\n",
      "17\n",
      "18\n",
      "19\n",
      "20\n",
      "21\n",
      "22\n",
      "23\n",
      "24\n",
      "25\n",
      "26\n"
     ]
    }
   ],
   "source": [
    "for i in np.nditer(arr,order='C'): #C means row major which is default\n",
    "    print(i)"
   ]
  },
  {
   "cell_type": "code",
   "execution_count": null,
   "id": "6f02322b",
   "metadata": {},
   "outputs": [
    {
     "name": "stdout",
     "output_type": "stream",
     "text": [
      "0\n",
      "9\n",
      "18\n",
      "3\n",
      "12\n",
      "21\n",
      "6\n",
      "15\n",
      "24\n",
      "1\n",
      "10\n",
      "19\n",
      "4\n",
      "13\n",
      "22\n",
      "7\n",
      "16\n",
      "25\n",
      "2\n",
      "11\n",
      "20\n",
      "5\n",
      "14\n",
      "23\n",
      "8\n",
      "17\n",
      "26\n"
     ]
    }
   ],
   "source": [
    "for i in np.nditer(arr,order='F'): #F means column major\n",
    "    print(i)"
   ]
  },
  {
   "cell_type": "code",
   "execution_count": null,
   "id": "ec77d1ba",
   "metadata": {},
   "outputs": [
    {
     "name": "stdout",
     "output_type": "stream",
     "text": [
      "((0,), np.int64(100)) <class 'tuple'>\n",
      "((1,), np.int64(101)) <class 'tuple'>\n",
      "((2,), np.int64(102)) <class 'tuple'>\n",
      "((3,), np.int64(103)) <class 'tuple'>\n",
      "((4,), np.int64(104)) <class 'tuple'>\n",
      "((5,), np.int64(105)) <class 'tuple'>\n",
      "((6,), np.int64(106)) <class 'tuple'>\n",
      "((7,), np.int64(107)) <class 'tuple'>\n",
      "((8,), np.int64(108)) <class 'tuple'>\n"
     ]
    }
   ],
   "source": [
    "############# enumerated iteration using numpy.ndenumerate() ############\n",
    "#it gives index along with element\n",
    "#i.e. position and value inside a tuple\n",
    "#1D array\n",
    "import numpy as np\n",
    "arr=np.array([i for i in range(100,109)])\n",
    "for i in np.ndenumerate(arr):\n",
    "    print(i,type(i))\n"
   ]
  },
  {
   "cell_type": "code",
   "execution_count": 13,
   "id": "a192a112",
   "metadata": {},
   "outputs": [
    {
     "name": "stdout",
     "output_type": "stream",
     "text": [
      "The element at 0 index is 100\n",
      "The element at 1 index is 101\n",
      "The element at 2 index is 102\n",
      "The element at 3 index is 103\n",
      "The element at 4 index is 104\n",
      "The element at 5 index is 105\n",
      "The element at 6 index is 106\n",
      "The element at 7 index is 107\n",
      "The element at 8 index is 108\n"
     ]
    }
   ],
   "source": [
    "for i in np.ndenumerate(arr):\n",
    "    print(f'The element at {i[0][0]} index is {i[1]}')"
   ]
  },
  {
   "cell_type": "code",
   "execution_count": 14,
   "id": "f3c6b662",
   "metadata": {},
   "outputs": [
    {
     "name": "stdout",
     "output_type": "stream",
     "text": [
      "((0, 0), np.int64(100)) <class 'tuple'>\n",
      "((0, 1), np.int64(101)) <class 'tuple'>\n",
      "((0, 2), np.int64(102)) <class 'tuple'>\n",
      "((1, 0), np.int64(103)) <class 'tuple'>\n",
      "((1, 1), np.int64(104)) <class 'tuple'>\n",
      "((1, 2), np.int64(105)) <class 'tuple'>\n",
      "((2, 0), np.int64(106)) <class 'tuple'>\n",
      "((2, 1), np.int64(107)) <class 'tuple'>\n",
      "((2, 2), np.int64(108)) <class 'tuple'>\n"
     ]
    }
   ],
   "source": [
    "#2D array\n",
    "import numpy as np\n",
    "arr=np.array([i for i in range(100,109)]).reshape(3,3)\n",
    "for i in np.ndenumerate(arr):\n",
    "    print(i,type(i))\n"
   ]
  },
  {
   "cell_type": "code",
   "execution_count": 15,
   "id": "af53be6d",
   "metadata": {},
   "outputs": [
    {
     "name": "stdout",
     "output_type": "stream",
     "text": [
      "The element at row = 0, column = 0 is 100\n",
      "The element at row = 0, column = 1 is 101\n",
      "The element at row = 0, column = 2 is 102\n",
      "The element at row = 1, column = 0 is 103\n",
      "The element at row = 1, column = 1 is 104\n",
      "The element at row = 1, column = 2 is 105\n",
      "The element at row = 2, column = 0 is 106\n",
      "The element at row = 2, column = 1 is 107\n",
      "The element at row = 2, column = 2 is 108\n"
     ]
    }
   ],
   "source": [
    "for i in np.ndenumerate(arr):\n",
    "    print(f'The element at row = {i[0][0]}, column = {i[0][1]} is {i[1]}')"
   ]
  },
  {
   "cell_type": "code",
   "execution_count": 16,
   "id": "5e30efb5",
   "metadata": {},
   "outputs": [
    {
     "name": "stdout",
     "output_type": "stream",
     "text": [
      "[[[ 0  1  2]\n",
      "  [ 3  4  5]\n",
      "  [ 6  7  8]]\n",
      "\n",
      " [[ 9 10 11]\n",
      "  [12 13 14]\n",
      "  [15 16 17]]\n",
      "\n",
      " [[18 19 20]\n",
      "  [21 22 23]\n",
      "  [24 25 26]]]\n"
     ]
    }
   ],
   "source": [
    "#3D array\n",
    "import numpy as np\n",
    "arr=np.array([i for i in range(3*3*3)]).reshape((3,3,3))\n",
    "print(arr)"
   ]
  },
  {
   "cell_type": "code",
   "execution_count": 17,
   "id": "fc30141f",
   "metadata": {},
   "outputs": [
    {
     "name": "stdout",
     "output_type": "stream",
     "text": [
      "((0, 0, 0), np.int64(0)) <class 'tuple'>\n",
      "((0, 0, 1), np.int64(1)) <class 'tuple'>\n",
      "((0, 0, 2), np.int64(2)) <class 'tuple'>\n",
      "((0, 1, 0), np.int64(3)) <class 'tuple'>\n",
      "((0, 1, 1), np.int64(4)) <class 'tuple'>\n",
      "((0, 1, 2), np.int64(5)) <class 'tuple'>\n",
      "((0, 2, 0), np.int64(6)) <class 'tuple'>\n",
      "((0, 2, 1), np.int64(7)) <class 'tuple'>\n",
      "((0, 2, 2), np.int64(8)) <class 'tuple'>\n",
      "((1, 0, 0), np.int64(9)) <class 'tuple'>\n",
      "((1, 0, 1), np.int64(10)) <class 'tuple'>\n",
      "((1, 0, 2), np.int64(11)) <class 'tuple'>\n",
      "((1, 1, 0), np.int64(12)) <class 'tuple'>\n",
      "((1, 1, 1), np.int64(13)) <class 'tuple'>\n",
      "((1, 1, 2), np.int64(14)) <class 'tuple'>\n",
      "((1, 2, 0), np.int64(15)) <class 'tuple'>\n",
      "((1, 2, 1), np.int64(16)) <class 'tuple'>\n",
      "((1, 2, 2), np.int64(17)) <class 'tuple'>\n",
      "((2, 0, 0), np.int64(18)) <class 'tuple'>\n",
      "((2, 0, 1), np.int64(19)) <class 'tuple'>\n",
      "((2, 0, 2), np.int64(20)) <class 'tuple'>\n",
      "((2, 1, 0), np.int64(21)) <class 'tuple'>\n",
      "((2, 1, 1), np.int64(22)) <class 'tuple'>\n",
      "((2, 1, 2), np.int64(23)) <class 'tuple'>\n",
      "((2, 2, 0), np.int64(24)) <class 'tuple'>\n",
      "((2, 2, 1), np.int64(25)) <class 'tuple'>\n",
      "((2, 2, 2), np.int64(26)) <class 'tuple'>\n"
     ]
    }
   ],
   "source": [
    "for i in np.ndenumerate(arr):\n",
    "    print(i,type(i))"
   ]
  },
  {
   "cell_type": "code",
   "execution_count": 18,
   "id": "4ee89956",
   "metadata": {},
   "outputs": [
    {
     "name": "stdout",
     "output_type": "stream",
     "text": [
      "The element at matrix = 0, row = 0, column =0 is 0\n",
      "The element at matrix = 0, row = 0, column =1 is 1\n",
      "The element at matrix = 0, row = 0, column =2 is 2\n",
      "The element at matrix = 0, row = 1, column =0 is 3\n",
      "The element at matrix = 0, row = 1, column =1 is 4\n",
      "The element at matrix = 0, row = 1, column =2 is 5\n",
      "The element at matrix = 0, row = 2, column =0 is 6\n",
      "The element at matrix = 0, row = 2, column =1 is 7\n",
      "The element at matrix = 0, row = 2, column =2 is 8\n",
      "The element at matrix = 1, row = 0, column =0 is 9\n",
      "The element at matrix = 1, row = 0, column =1 is 10\n",
      "The element at matrix = 1, row = 0, column =2 is 11\n",
      "The element at matrix = 1, row = 1, column =0 is 12\n",
      "The element at matrix = 1, row = 1, column =1 is 13\n",
      "The element at matrix = 1, row = 1, column =2 is 14\n",
      "The element at matrix = 1, row = 2, column =0 is 15\n",
      "The element at matrix = 1, row = 2, column =1 is 16\n",
      "The element at matrix = 1, row = 2, column =2 is 17\n",
      "The element at matrix = 2, row = 0, column =0 is 18\n",
      "The element at matrix = 2, row = 0, column =1 is 19\n",
      "The element at matrix = 2, row = 0, column =2 is 20\n",
      "The element at matrix = 2, row = 1, column =0 is 21\n",
      "The element at matrix = 2, row = 1, column =1 is 22\n",
      "The element at matrix = 2, row = 1, column =2 is 23\n",
      "The element at matrix = 2, row = 2, column =0 is 24\n",
      "The element at matrix = 2, row = 2, column =1 is 25\n",
      "The element at matrix = 2, row = 2, column =2 is 26\n"
     ]
    }
   ],
   "source": [
    "for i in np.ndenumerate(arr):\n",
    "    print(f'The element at matrix = {i[0][0]}, row = {i[0][1]}, column ={i[0][2]} is {i[1]}')"
   ]
  },
  {
   "cell_type": "code",
   "execution_count": null,
   "id": "9c5c3382",
   "metadata": {},
   "outputs": [],
   "source": []
  }
 ],
 "metadata": {
  "kernelspec": {
   "display_name": "Python 3",
   "language": "python",
   "name": "python3"
  },
  "language_info": {
   "codemirror_mode": {
    "name": "ipython",
    "version": 3
   },
   "file_extension": ".py",
   "mimetype": "text/x-python",
   "name": "python",
   "nbconvert_exporter": "python",
   "pygments_lexer": "ipython3",
   "version": "3.12.10"
  }
 },
 "nbformat": 4,
 "nbformat_minor": 5
}
